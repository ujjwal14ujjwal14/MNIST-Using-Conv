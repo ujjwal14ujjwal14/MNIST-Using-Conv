{
 "cells": [
  {
   "cell_type": "code",
   "execution_count": null,
   "metadata": {},
   "outputs": [],
   "source": [
    "from tensorflow import keras\n",
    "import tensorflow as tf\n",
    "mnist = tf.keras.datasets.mnist\n",
    "\n",
    "# Implement callback function to stop training\n",
    "# when accuracy reaches\n",
    "\n",
    "ACCURACY_THRESHOLD = 0.95\n",
    "class myCallback(tf.keras.callbacks.Callback): \n",
    "    def on_epoch_end(self, epoch, logs={}): \n",
    "        if(logs.get('acc') > ACCURACY_THRESHOLD):   \n",
    "            print(\"\\nReached %2.2f%% accuracy, so stopping training!!\" %(ACCURACY_THRESHOLD*100))   \n",
    "            self.model.stop_training = True\n",
    "        \n",
    "(x_train, y_train),(x_test, y_test) = mnist.load_data()\n",
    "x_train = x_train.reshape(60000,28,28,1)\n",
    "x_train = x_train/255\n",
    "x_test = x_test.reshape(10000,28,28,1)\n",
    "x_test = x_test/255\n",
    "\n",
    "\n",
    "\n",
    "model = tf.keras.models.Sequential([keras.layers.Conv2D(64, (3,3), input_shape = (28,28,1), activation = tf.nn.relu),\n",
    "                                    keras.layers.MaxPooling2D((2,2)),\n",
    "                                    keras.layers.Conv2D(64, (3,3), activation = tf.nn.relu),\n",
    "                                    keras.layers.MaxPooling2D((2,2)),\n",
    "                                    keras.layers.Flatten(),\n",
    "                                    keras.layers.Dense(64, activation = tf.nn.relu),\n",
    "                                    keras.layers.Dense(10, activation = tf.nn.softmax)])\n",
    "\n",
    "callbacks = myCallback()\n",
    "model.compile(optimizer='adam',\n",
    "              loss='sparse_categorical_crossentropy',\n",
    "              metrics=['accuracy'])\n",
    "\n",
    "\n",
    "fit = model.fit(x_train,y_train,epochs = 5, callbacks=[callbacks])\n",
    "\n",
    "model.evaluate(x_test, y_test)\n"
   ]
  }
 ],
 "metadata": {
  "kernelspec": {
   "display_name": "Python 3",
   "language": "python",
   "name": "python3"
  },
  "language_info": {
   "codemirror_mode": {
    "name": "ipython",
    "version": 3
   },
   "file_extension": ".py",
   "mimetype": "text/x-python",
   "name": "python",
   "nbconvert_exporter": "python",
   "pygments_lexer": "ipython3",
   "version": "3.7.0"
  }
 },
 "nbformat": 4,
 "nbformat_minor": 2
}
